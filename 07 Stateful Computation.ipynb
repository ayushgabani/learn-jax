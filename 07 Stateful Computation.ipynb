{
 "cells": [
  {
   "cell_type": "markdown",
   "id": "451e68ce",
   "metadata": {},
   "source": [
    "# 07 Stateful Computation\n",
    "\n",
    "Original Documentation: https://docs.jax.dev/en/latest/stateful-computations.html\n"
   ]
  },
  {
   "cell_type": "code",
   "execution_count": 1,
   "id": "aadf6cd5",
   "metadata": {},
   "outputs": [],
   "source": [
    "import jax\n",
    "import jax.numpy as jnp"
   ]
  },
  {
   "cell_type": "markdown",
   "id": "05a138e6",
   "metadata": {},
   "source": [
    "JAX transformations (`jax.jit()`, `jax.vmap()`, `jax.grad()`) require the functions they wrap to be pure. In ML, state may exist in forms like model parameters, optimizer state, and stateful layers.\n",
    "\n",
    "## A simple example\n",
    "\n",
    "Consider a toy example of a `Counter` class:\n"
   ]
  },
  {
   "cell_type": "code",
   "execution_count": 2,
   "id": "64d2f8d6",
   "metadata": {},
   "outputs": [
    {
     "name": "stdout",
     "output_type": "stream",
     "text": [
      "1\n",
      "2\n",
      "3\n"
     ]
    }
   ],
   "source": [
    "class Counter:\n",
    "    \"\"\"A simple counter.\"\"\"\n",
    "\n",
    "    def __init__(self):\n",
    "        self.n = 0\n",
    "\n",
    "    def count(self) -> int:\n",
    "        \"\"\"Increments the counter and returns the new value.\"\"\"\n",
    "        self.n += 1\n",
    "        return self.n\n",
    "\n",
    "    def reset(self):\n",
    "        \"\"\"Resets the counter to zero.\"\"\"\n",
    "        self.n = 0\n",
    "\n",
    "\n",
    "c = Counter()\n",
    "for _ in range(3):\n",
    "    print(c.count())"
   ]
  },
  {
   "cell_type": "markdown",
   "id": "855b7122",
   "metadata": {},
   "source": [
    "`self.n` is the state that is maintained and modified as a side-effect during `count()` calls.\n",
    "\n",
    "For the sake of example, assume we must JIT compile `count()` to improve performance.\n"
   ]
  },
  {
   "cell_type": "code",
   "execution_count": 3,
   "id": "f61f5380",
   "metadata": {},
   "outputs": [
    {
     "name": "stdout",
     "output_type": "stream",
     "text": [
      "1\n",
      "1\n",
      "1\n"
     ]
    }
   ],
   "source": [
    "c = Counter()\n",
    "fast_count = jax.jit(c.count)\n",
    "\n",
    "for _ in range(3):\n",
    "    print(fast_count())"
   ]
  },
  {
   "cell_type": "markdown",
   "id": "b6812e88",
   "metadata": {},
   "source": [
    "Since the side-effect of incrementing `self.n` is only executed once at trace time, subsequent `fast_count()` calls will not repeat the side effect since the XLA compiler will remove them.\n",
    "\n",
    "## The solution: explicit state\n"
   ]
  },
  {
   "cell_type": "code",
   "execution_count": 4,
   "id": "3d3e06cb",
   "metadata": {},
   "outputs": [
    {
     "name": "stdout",
     "output_type": "stream",
     "text": [
      "1\n",
      "2\n",
      "3\n"
     ]
    }
   ],
   "source": [
    "CounterState = int\n",
    "\n",
    "\n",
    "class Counter:\n",
    "    \"\"\"A simple counter.\"\"\"\n",
    "\n",
    "    def count(self, n: CounterState) -> int:\n",
    "        return n + 1\n",
    "\n",
    "    def reset(self):\n",
    "        return 0\n",
    "\n",
    "\n",
    "c = Counter()\n",
    "state = c.reset()\n",
    "\n",
    "fast_count = jax.jit(c.count)\n",
    "\n",
    "for _ in range(3):\n",
    "    state = fast_count(state)\n",
    "    print(state)"
   ]
  },
  {
   "cell_type": "markdown",
   "id": "28042d4b",
   "metadata": {},
   "source": [
    "Allow the user to manage the necessary state so that `count()` can be pure and therefore JIT compiled.\n",
    "\n",
    "## Simple example\n",
    "\n",
    "Consider an example of a linear regression via gradient descent. Here, the only state is model parameters:\n"
   ]
  },
  {
   "cell_type": "code",
   "execution_count": 5,
   "id": "e6cd0576",
   "metadata": {},
   "outputs": [],
   "source": [
    "from typing import NamedTuple\n",
    "\n",
    "LEARNING_RATE = 0.005\n",
    "\n",
    "\n",
    "class Params(NamedTuple):\n",
    "    weights: jnp.ndarray\n",
    "    biases: jnp.ndarray\n",
    "\n",
    "\n",
    "def init(rng):\n",
    "    \"\"\"Initialize model weights and biases randomly\"\"\"\n",
    "    W_key, b_key = jax.random.split(rng, 2)\n",
    "    W = jax.random.normal(W_key, ())\n",
    "    b = jax.random.normal(b_key, ())\n",
    "    return Params(W, b)\n",
    "\n",
    "\n",
    "def loss(params, x, y):\n",
    "    \"\"\"Compute the MSE of the model's prediction on x against y\"\"\"\n",
    "    preds = params.weights * x + params.biases\n",
    "    return jnp.mean((preds - y) ** 2)\n",
    "\n",
    "\n",
    "@jax.jit\n",
    "def update(params, x, y):\n",
    "    loss_value, grads = jax.value_and_grad(loss)(params, x, y)\n",
    "\n",
    "    # Adjust weights by gradient direction amplified by learning rate\n",
    "    return loss_value, jax.tree.map(lambda param, g: param - g * LEARNING_RATE, params, grads)"
   ]
  },
  {
   "cell_type": "markdown",
   "id": "ec1c2281",
   "metadata": {},
   "source": [
    "Notice that we manually pipe the params in and out of the update function.\n",
    "\n",
    "We can write a simple train loop to train our regression model:\n"
   ]
  },
  {
   "cell_type": "code",
   "execution_count": 10,
   "id": "f1c2db4a",
   "metadata": {},
   "outputs": [
    {
     "data": {
      "image/png": "[encoded data removed]",
      "text/plain": [
       "<Figure size 640x480 with 1 Axes>"
      ]
     },
     "metadata": {},
     "output_type": "display_data"
    }
   ],
   "source": [
    "import matplotlib.pyplot as plt\n",
    "\n",
    "rng = jax.random.key(42)\n",
    "\n",
    "# Generate true data from y = w*x + b + noise\n",
    "true_w, true_b = 2, -1\n",
    "x_rng, noise_rng = jax.random.split(rng)\n",
    "xs = jax.random.normal(x_rng, (128, 1))\n",
    "noise = jax.random.normal(noise_rng, (128, 1)) * 0.5\n",
    "ys = xs * true_w + true_b + noise\n",
    "\n",
    "# Fit regression\n",
    "params = init(rng)\n",
    "losses = []\n",
    "for i in range(300):\n",
    "    loss_value, params = update(params, xs, ys)\n",
    "    losses.append(loss_value)\n",
    "\n",
    "plt.plot(losses)\n",
    "plt.xlabel(\"Epoch\")\n",
    "plt.ylabel(\"Loss\")\n",
    "plt.title(\"Training Loss Over Time\")\n",
    "plt.grid(True)\n",
    "plt.show()"
   ]
  },
  {
   "cell_type": "markdown",
   "id": "cd2e8ea2",
   "metadata": {},
   "source": [
    "We’ve successfully trained the model with only pure functions!\n"
   ]
  }
 ],
 "metadata": {
  "kernelspec": {
   "display_name": ".venv",
   "language": "python",
   "name": "python3"
  },
  "language_info": {
   "codemirror_mode": {
    "name": "ipython",
    "version": 3
   },
   "file_extension": ".py",
   "mimetype": "text/x-python",
   "name": "python",
   "nbconvert_exporter": "python",
   "pygments_lexer": "ipython3",
   "version": "3.12.7"
  }
 },
 "nbformat": 4,
 "nbformat_minor": 5
}
